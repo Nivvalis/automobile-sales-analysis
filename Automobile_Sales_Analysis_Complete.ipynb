{
 "cells": [
  {
   "cell_type": "markdown",
   "id": "39690708",
   "metadata": {},
   "source": [
    "# Final Project: Automobile Sales Analysis\n",
    "This notebook includes both Part 1 (Exploratory Data Analysis) and Part 2 (Dashboard with Dash)."
   ]
  },
  {
   "cell_type": "markdown",
   "id": "f25be0dc",
   "metadata": {},
   "source": [
    "## Load Dataset"
   ]
  },
  {
   "cell_type": "code",
   "execution_count": null,
   "id": "66737870",
   "metadata": {},
   "outputs": [],
   "source": [
    "\n",
    "import pandas as pd\n",
    "import numpy as np\n",
    "import matplotlib.pyplot as plt\n",
    "import seaborn as sns\n",
    "import io\n",
    "import requests\n",
    "\n",
    "# Load the dataset\n",
    "url = \"https://cf-courses-data.s3.us.cloud-object-storage.appdomain.cloud/IBMDeveloperSkillsNetwork-DV0101EN-SkillsNetwork/datasets/automobile_sales.csv\"\n",
    "response = requests.get(url)\n",
    "csv_content = io.StringIO(response.text)\n",
    "df = pd.read_csv(csv_content)\n",
    "\n",
    "df.head()\n"
   ]
  },
  {
   "cell_type": "markdown",
   "id": "999f61f9",
   "metadata": {},
   "source": [
    "## Part 1: Exploratory Data Analysis"
   ]
  },
  {
   "cell_type": "code",
   "execution_count": null,
   "id": "be240bef",
   "metadata": {},
   "outputs": [],
   "source": [
    "# TASK 1.1 - TASK 1.9 Code Goes Here"
   ]
  },
  {
   "cell_type": "markdown",
   "id": "847d22c2",
   "metadata": {},
   "source": [
    "## Part 2: Dash Application"
   ]
  },
  {
   "cell_type": "code",
   "execution_count": null,
   "id": "62a868fc",
   "metadata": {},
   "outputs": [],
   "source": [
    "# TASK 2.1 - TASK 2.6 Code Goes Here"
   ]
  }
 ],
 "metadata": {},
 "nbformat": 4,
 "nbformat_minor": 5
}
